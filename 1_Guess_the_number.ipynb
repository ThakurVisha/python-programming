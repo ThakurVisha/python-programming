{
  "nbformat": 4,
  "nbformat_minor": 0,
  "metadata": {
    "colab": {
      "provenance": []
    },
    "kernelspec": {
      "name": "python3",
      "display_name": "Python 3"
    },
    "language_info": {
      "name": "python"
    }
  },
  "cells": [
    {
      "cell_type": "code",
      "source": [
        "import random\n",
        "\n",
        "def play_game():\n",
        "    range_start = 1\n",
        "    range_end = 100\n",
        "    random_number = random.randint(range_start, range_end)\n",
        "    attempts = 7  # Allow more attempts\n",
        "\n",
        "    print(f\"\\nI've selected a number between {range_start} and {range_end}.\")\n",
        "    print(f\"You have {attempts} attempts to guess it.\")\n",
        "\n",
        "    while attempts > 0:\n",
        "        guess = int(input(\"Enter your guess: \"))\n",
        "        if guess < random_number:\n",
        "            print(\"Too low! Try again.\")\n",
        "        elif guess > random_number:\n",
        "            print(\"Too high! Try again.\")\n",
        "        else:\n",
        "            print(f\"Congratulations! You guessed the number {random_number}!\")\n",
        "            return\n",
        "        attempts -= 1\n",
        "        print(f\"You have {attempts} attempts remaining.\")\n",
        "\n",
        "    print(f\"Sorry, you've run out of attempts. The number was {random_number}.\")\n",
        "\n",
        "def main():\n",
        "    while True:\n",
        "        play_game()\n",
        "        play_again = input(\"\\nDo you want to play again? (yes/no): \").strip().lower()\n",
        "        if play_again != 'yes':\n",
        "            print(\"Thanks for playing! Goodbye!\")\n",
        "            break\n",
        "\n",
        "if __name__ == \"__main__\":\n",
        "    main()\n"
      ],
      "metadata": {
        "colab": {
          "base_uri": "https://localhost:8080/"
        },
        "id": "D8Lsf3M1lVVt",
        "outputId": "0ab13e28-3cf2-45fa-979d-d6e74a8c1c16"
      },
      "execution_count": null,
      "outputs": [
        {
          "output_type": "stream",
          "name": "stdout",
          "text": [
            "\n",
            "I've selected a number between 1 and 100.\n",
            "You have 7 attempts to guess it.\n",
            "Enter your guess: 75\n",
            "Too high! Try again.\n",
            "You have 6 attempts remaining.\n",
            "Enter your guess: 73\n",
            "Too high! Try again.\n",
            "You have 5 attempts remaining.\n",
            "Enter your guess: 69\n",
            "Too high! Try again.\n",
            "You have 4 attempts remaining.\n",
            "Enter your guess: 53\n",
            "Too high! Try again.\n",
            "You have 3 attempts remaining.\n",
            "Enter your guess: 45\n",
            "Too low! Try again.\n",
            "You have 2 attempts remaining.\n",
            "Enter your guess: 49\n",
            "Too low! Try again.\n",
            "You have 1 attempts remaining.\n",
            "Enter your guess: 51\n",
            "Too low! Try again.\n",
            "You have 0 attempts remaining.\n",
            "Sorry, you've run out of attempts. The number was 52.\n",
            "\n",
            "Do you want to play again? (yes/no): no\n",
            "Thanks for playing! Goodbye!\n"
          ]
        }
      ]
    }
  ]
}
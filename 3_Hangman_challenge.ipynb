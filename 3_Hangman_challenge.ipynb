{
  "nbformat": 4,
  "nbformat_minor": 0,
  "metadata": {
    "colab": {
      "provenance": []
    },
    "kernelspec": {
      "name": "python3",
      "display_name": "Python 3"
    },
    "language_info": {
      "name": "python"
    }
  },
  "cells": [
    {
      "cell_type": "code",
      "execution_count": null,
      "metadata": {
        "colab": {
          "base_uri": "https://localhost:8080/"
        },
        "id": "DjOLXFQQpxTU",
        "outputId": "56cd9d72-eb71-4d28-bd48-ebb666c3eb10"
      },
      "outputs": [
        {
          "output_type": "stream",
          "name": "stdout",
          "text": [
            "Welcome to Hangman!\n",
            "Current word: ______\n",
            "Guessed letters: \n",
            "Attempts remaining: 6\n",
            "Guess a letter: hangman\n",
            "Please enter a single letter.\n",
            "Current word: ______\n",
            "Guessed letters: \n",
            "Attempts remaining: 6\n",
            "Guess a letter: h\n",
            "Current word: ___h__\n",
            "Guessed letters: h\n",
            "Attempts remaining: 6\n",
            "Guess a letter: p\n",
            "Current word: p__h__\n",
            "Guessed letters: h, p\n",
            "Attempts remaining: 6\n",
            "Guess a letter: y\n",
            "Current word: py_h__\n",
            "Guessed letters: h, p, y\n",
            "Attempts remaining: 6\n",
            "Guess a letter: t\n",
            "Current word: pyth__\n",
            "Guessed letters: h, p, y, t\n",
            "Attempts remaining: 6\n",
            "Guess a letter: o\n",
            "Current word: pytho_\n",
            "Guessed letters: h, p, y, t, o\n",
            "Attempts remaining: 6\n",
            "Guess a letter: n\n",
            "Congratulations! You've guessed the word 'python'!\n"
          ]
        }
      ],
      "source": [
        "import random\n",
        "\n",
        "class Hangman:\n",
        "    def __init__(self):\n",
        "        self.words = ['python', 'hangman', 'challenge', 'programming', 'development']\n",
        "        self.word_to_guess = random.choice(self.words)\n",
        "        self.guesses = []\n",
        "        self.max_attempts = 6\n",
        "        self.attempts_remaining = self.max_attempts\n",
        "\n",
        "    def display_state(self):\n",
        "        display_word = ''.join([letter if letter in self.guesses else '_' for letter in self.word_to_guess])\n",
        "        print(f\"Current word: {display_word}\")\n",
        "        print(f\"Guessed letters: {', '.join(self.guesses)}\")\n",
        "        print(f\"Attempts remaining: {self.attempts_remaining}\")\n",
        "\n",
        "    def guess_letter(self, letter):\n",
        "        if letter in self.guesses:\n",
        "            print(\"You already guessed that letter.\")\n",
        "            return False\n",
        "\n",
        "        self.guesses.append(letter)\n",
        "\n",
        "        if letter not in self.word_to_guess:\n",
        "            self.attempts_remaining -= 1\n",
        "            print(f\"Incorrect guess! '{letter}' is not in the word.\")\n",
        "            return False\n",
        "\n",
        "        return True\n",
        "\n",
        "    def is_won(self):\n",
        "        return all(letter in self.guesses for letter in self.word_to_guess)\n",
        "\n",
        "    def is_lost(self):\n",
        "        return self.attempts_remaining <= 0\n",
        "\n",
        "def main():\n",
        "    print(\"Welcome to Hangman!\")\n",
        "    game = Hangman()\n",
        "\n",
        "    while not game.is_won() and not game.is_lost():\n",
        "        game.display_state()\n",
        "        guess = input(\"Guess a letter: \").lower()\n",
        "\n",
        "        if len(guess) != 1 or not guess.isalpha():\n",
        "            print(\"Please enter a single letter.\")\n",
        "            continue\n",
        "\n",
        "        game.guess_letter(guess)\n",
        "\n",
        "    if game.is_won():\n",
        "        print(f\"Congratulations! You've guessed the word '{game.word_to_guess}'!\")\n",
        "    else:\n",
        "        print(f\"Game over! The word was '{game.word_to_guess}'.\")\n",
        "\n",
        "if __name__ == \"__main__\":\n",
        "    main()\n"
      ]
    }
  ]
}
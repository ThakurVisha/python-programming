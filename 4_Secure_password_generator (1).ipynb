{
  "nbformat": 4,
  "nbformat_minor": 0,
  "metadata": {
    "colab": {
      "provenance": []
    },
    "kernelspec": {
      "name": "python3",
      "display_name": "Python 3"
    },
    "language_info": {
      "name": "python"
    }
  },
  "cells": [
    {
      "cell_type": "code",
      "execution_count": null,
      "metadata": {
        "colab": {
          "base_uri": "https://localhost:8080/"
        },
        "id": "0Ew9uLcKrg6S",
        "outputId": "9af1fab5-dc0c-4dcf-fa5d-92f9a211c6bc"
      },
      "outputs": [
        {
          "output_type": "stream",
          "name": "stdout",
          "text": [
            "Welcome to the Secure Password Generator!\n",
            "Enter the desired password length: 12\n",
            "Include uppercase letters? (y/n): _\n",
            "Include numbers? (y/n): vish\n",
            "Include symbols? (y/n): y/n\n",
            "Generated Password: ugitoadwmxap\n"
          ]
        }
      ],
      "source": [
        "import random\n",
        "import string\n",
        "\n",
        "def generate_password(length, use_uppercase, use_numbers, use_symbols):\n",
        "    character_pool = string.ascii_lowercase\n",
        "\n",
        "    if use_uppercase:\n",
        "        character_pool += string.ascii_uppercase\n",
        "    if use_numbers:\n",
        "        character_pool += string.digits\n",
        "    if use_symbols:\n",
        "        character_pool += string.punctuation\n",
        "\n",
        "    if not character_pool:\n",
        "        raise ValueError(\"At least one character type must be selected.\")\n",
        "\n",
        "    password = ''.join(random.choice(character_pool) for _ in range(length))\n",
        "    return password\n",
        "\n",
        "def main():\n",
        "    print(\"Welcome to the Secure Password Generator!\")\n",
        "\n",
        "    length = int(input(\"Enter the desired password length: \"))\n",
        "    use_uppercase = input(\"Include uppercase letters? (y/n): \").lower() == 'y'\n",
        "    use_numbers = input(\"Include numbers? (y/n): \").lower() == 'y'\n",
        "    use_symbols = input(\"Include symbols? (y/n): \").lower() == 'y'\n",
        "\n",
        "    try:\n",
        "        password = generate_password(length, use_uppercase, use_numbers, use_symbols)\n",
        "        print(f\"Generated Password: {password}\")\n",
        "    except ValueError as e:\n",
        "        print(e)\n",
        "\n",
        "if __name__ == \"__main__\":\n",
        "    main()\n"
      ]
    }
  ]
}